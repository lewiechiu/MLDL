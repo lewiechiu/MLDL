{
 "cells": [
  {
   "cell_type": "code",
   "execution_count": 29,
   "metadata": {},
   "outputs": [],
   "source": [
    "import tensorflow as tf\n",
    "import keras \n",
    "from keras import backend as K\n",
    "\n",
    "import numpy as np\n",
    "import matplotlib.pyplot as plt"
   ]
  },
  {
   "cell_type": "code",
   "execution_count": 90,
   "metadata": {},
   "outputs": [],
   "source": [
    "# Keras functions\n",
    "from keras.models import Sequential\n",
    "from keras.layers import Dense, Activation\n",
    "from keras.optimizers import Adam\n",
    "\n",
    "# Keras dataset\n",
    "from keras.datasets import mnist\n",
    "\n",
    "# Keras utils\n",
    "from keras.utils import np_utils\n",
    "\n",
    "# keras functional API\n",
    "from keras.models import Model\n",
    "from keras.layers import Input\n",
    "from keras.layers import concatenate, add"
   ]
  },
  {
   "cell_type": "code",
   "execution_count": 117,
   "metadata": {},
   "outputs": [
    {
     "name": "stdout",
     "output_type": "stream",
     "text": [
      "There are 60000 training data with size 28 x 28\n",
      "There are 10000 testing  data with size 28 x 28\n",
      "There are 60000 training data with size 28 x 28\n",
      "There are 10000 testing  data with size 28 x 28\n"
     ]
    }
   ],
   "source": [
    "(x_train0, y_train0), (x_test0, y_test0) = mnist.load_data()\n",
    "\n",
    "print(\"There are %d training data with size %d x %d\" %x_train0.shape)\n",
    "print(\"There are %d testing  data with size %d x %d\" %x_test0.shape)\n",
    "\n",
    "x_train = x_train0.reshape(60000, 784)\n",
    "x_test = x_test0.reshape(10000, 784)\n",
    "\n",
    "y_train = np_utils.to_categorical(y_train0, 10)\n",
    "y_test = np_utils.to_categorical(y_test0, 10)\n",
    "\n",
    "print(\"There are %d training data with size %d x %d\" %x_train0.shape)\n",
    "print(\"There are %d testing  data with size %d x %d\" %x_test0.shape)"
   ]
  },
  {
   "cell_type": "code",
   "execution_count": 118,
   "metadata": {},
   "outputs": [
    {
     "data": {
      "text/plain": [
       "(0.0, 1.0)"
      ]
     },
     "execution_count": 118,
     "metadata": {},
     "output_type": "execute_result"
    }
   ],
   "source": [
    "x_train -= x_train.min()\n",
    "x_train = x_train/x_train.max()\n",
    "x_train.min(), x_train.max()"
   ]
  },
  {
   "cell_type": "code",
   "execution_count": 115,
   "metadata": {},
   "outputs": [
    {
     "name": "stdout",
     "output_type": "stream",
     "text": [
      "Tensor(\"input_24:0\", shape=(?, 784), dtype=float32)\n",
      "<keras.layers.core.Dense object at 0x7f9937441358>\n"
     ]
    }
   ],
   "source": [
    "INPUT = Input(shape= (784,))\n",
    "print(INPUT)\n",
    "\n",
    "f_1 = Dense(500, activation='relu')\n",
    "\n",
    "f_21 = Dense(200, activation='relu')\n",
    "f_22 = Dense(200, activation='relu')\n",
    "f_23 = Dense(200, activation='relu')\n",
    "\n",
    "f_3 = Dense(300, activation='relu')\n",
    "\n",
    "f_41 = Dense(100, activation='relu')\n",
    "f_42 = Dense(100, activation='relu')\n",
    "\n",
    "f_5 = Dense(10, activation = 'softmax')\n",
    "\n",
    "print(f_21)"
   ]
  },
  {
   "cell_type": "code",
   "execution_count": 127,
   "metadata": {},
   "outputs": [
    {
     "name": "stdout",
     "output_type": "stream",
     "text": [
      "__________________________________________________________________________________________________\n",
      "Layer (type)                    Output Shape         Param #     Connected to                     \n",
      "==================================================================================================\n",
      "input_24 (InputLayer)           (None, 784)          0                                            \n",
      "__________________________________________________________________________________________________\n",
      "dense_167 (Dense)               (None, 500)          392500      input_24[0][0]                   \n",
      "__________________________________________________________________________________________________\n",
      "dense_168 (Dense)               (None, 200)          100200      dense_167[0][0]                  \n",
      "__________________________________________________________________________________________________\n",
      "dense_169 (Dense)               (None, 200)          100200      dense_167[0][0]                  \n",
      "__________________________________________________________________________________________________\n",
      "dense_170 (Dense)               (None, 200)          100200      dense_167[0][0]                  \n",
      "__________________________________________________________________________________________________\n",
      "concatenate_60 (Concatenate)    (None, 600)          0           dense_168[0][0]                  \n",
      "                                                                 dense_169[0][0]                  \n",
      "                                                                 dense_170[0][0]                  \n",
      "__________________________________________________________________________________________________\n",
      "dense_171 (Dense)               (None, 300)          180300      concatenate_60[0][0]             \n",
      "__________________________________________________________________________________________________\n",
      "dense_172 (Dense)               (None, 100)          30100       dense_171[0][0]                  \n",
      "__________________________________________________________________________________________________\n",
      "dense_173 (Dense)               (None, 100)          30100       dense_171[0][0]                  \n",
      "__________________________________________________________________________________________________\n",
      "concatenate_61 (Concatenate)    (None, 200)          0           dense_172[0][0]                  \n",
      "                                                                 dense_173[0][0]                  \n",
      "__________________________________________________________________________________________________\n",
      "dense_174 (Dense)               (None, 10)           2010        concatenate_61[0][0]             \n",
      "==================================================================================================\n",
      "Total params: 935,610\n",
      "Trainable params: 935,610\n",
      "Non-trainable params: 0\n",
      "__________________________________________________________________________________________________\n"
     ]
    }
   ],
   "source": [
    "h_1 = f_1(INPUT)\n",
    "\n",
    "h_21 = f_21(h_1)\n",
    "h_22 = f_22(h_1)\n",
    "h_23 = f_23(h_1)\n",
    "\n",
    "\n",
    "h_3 = f_3(concatenate([h_21,h_22,h_23]))\n",
    "\n",
    "h_41 = f_41(h_3)\n",
    "h_42 = f_42(h_3)\n",
    "\n",
    "h_5 = f_5(concatenate([h_41,h_42]))\n",
    "\n",
    "m = Model(INPUT, h_5)\n",
    "\n",
    "\n",
    "m.summary()\n",
    "m.compile(loss='categorical_crossentropy', optimizer=Adam(lr=0.001), metrics=['accuracy'])"
   ]
  },
  {
   "cell_type": "code",
   "execution_count": 134,
   "metadata": {},
   "outputs": [
    {
     "name": "stdout",
     "output_type": "stream",
     "text": [
      "Train on 54000 samples, validate on 6000 samples\n",
      "Epoch 1/10\n",
      "54000/54000 [==============================] - 9s 171us/step - loss: 0.0756 - acc: 0.9777 - val_loss: 0.0752 - val_acc: 0.9797\n",
      "Epoch 2/10\n",
      "54000/54000 [==============================] - 9s 171us/step - loss: 0.0586 - acc: 0.9823 - val_loss: 0.0855 - val_acc: 0.9777\n",
      "Epoch 3/10\n",
      "54000/54000 [==============================] - 9s 172us/step - loss: 0.0495 - acc: 0.9852 - val_loss: 0.0643 - val_acc: 0.9812\n",
      "Epoch 4/10\n",
      "54000/54000 [==============================] - 9s 168us/step - loss: 0.0428 - acc: 0.9875 - val_loss: 0.0946 - val_acc: 0.9773\n",
      "Epoch 5/10\n",
      "54000/54000 [==============================] - 9s 170us/step - loss: 0.0367 - acc: 0.9888 - val_loss: 0.0890 - val_acc: 0.9793\n",
      "Epoch 6/10\n",
      "54000/54000 [==============================] - 9s 171us/step - loss: 0.0340 - acc: 0.9905 - val_loss: 0.0780 - val_acc: 0.9825\n",
      "Epoch 7/10\n",
      "54000/54000 [==============================] - 9s 173us/step - loss: 0.0302 - acc: 0.9913 - val_loss: 0.0682 - val_acc: 0.9827\n",
      "Epoch 8/10\n",
      "54000/54000 [==============================] - 9s 174us/step - loss: 0.0254 - acc: 0.9930 - val_loss: 0.0950 - val_acc: 0.9805\n",
      "Epoch 9/10\n",
      "54000/54000 [==============================] - 9s 172us/step - loss: 0.0303 - acc: 0.9922 - val_loss: 0.0883 - val_acc: 0.9808\n",
      "Epoch 10/10\n",
      "54000/54000 [==============================] - 9s 171us/step - loss: 0.0224 - acc: 0.9939 - val_loss: 0.1051 - val_acc: 0.9815\n"
     ]
    }
   ],
   "source": [
    "model_his = m.fit(x_train, y_train, batch_size=32, epochs=10, validation_split=0.1, shuffle=True )"
   ]
  },
  {
   "cell_type": "code",
   "execution_count": 135,
   "metadata": {},
   "outputs": [
    {
     "name": "stdout",
     "output_type": "stream",
     "text": [
      "10000/10000 [==============================] - 1s 51us/step\n",
      "score 0.980300\n"
     ]
    }
   ],
   "source": [
    "score = m.evaluate(x_test,y_test)\n",
    "print('score %lf'%score[1])"
   ]
  },
  {
   "cell_type": "code",
   "execution_count": 138,
   "metadata": {},
   "outputs": [
    {
     "data": {
      "image/png": "[encoded data removed]",
      "text/plain": [
       "<Figure size 432x288 with 1 Axes>"
      ]
     },
     "metadata": {},
     "output_type": "display_data"
    }
   ],
   "source": [
    "plt.plot(model_his.history['acc'])\n",
    "plt.title(\"accuracy\")\n",
    "plt.xlabel(\"epochs\")\n",
    "plt.ylabel(\"accuracy\")\n",
    "plt.show()"
   ]
  },
  {
   "cell_type": "code",
   "execution_count": 143,
   "metadata": {},
   "outputs": [],
   "source": [
    "from keras.utils.vis_utils import plot_model\n",
    "plot_model(m, to_file='model_plot.png', show_shapes=True, show_layer_names=True)"
   ]
  },
  {
   "cell_type": "markdown",
   "metadata": {},
   "source": [
    "![model](model_plot.png)"
   ]
  },
  {
   "cell_type": "markdown",
   "metadata": {},
   "source": [
    "During the planning process, I found that there may be circumstances that the net cannot be supported by the amount of dataset. This occurs when I have params more than 1.1 million. "
   ]
  }
 ],
 "metadata": {
  "kernelspec": {
   "display_name": "Python 3",
   "language": "python",
   "name": "python3"
  },
  "language_info": {
   "codemirror_mode": {
    "name": "ipython",
    "version": 3
   },
   "file_extension": ".py",
   "mimetype": "text/x-python",
   "name": "python",
   "nbconvert_exporter": "python",
   "pygments_lexer": "ipython3",
   "version": "3.5.3"
  }
 },
 "nbformat": 4,
 "nbformat_minor": 2
}
