{
 "cells": [
  {
   "cell_type": "code",
   "execution_count": 27,
   "metadata": {},
   "outputs": [
    {
     "name": "stdout",
     "output_type": "stream",
     "text": [
      "['/job:localhost/replica:0/task:0/device:GPU:0']\n"
     ]
    }
   ],
   "source": [
    "\n",
    "import keras\n",
    "from keras import backend as K\n",
    "\n",
    "\n",
    "from keras.datasets import mnist\n",
    "import numpy as np\n",
    "from keras.utils import np_utils\n",
    "print(K.tensorflow_backend._get_available_gpus())\n",
    "import matplotlib.pyplot as plt"
   ]
  },
  {
   "cell_type": "markdown",
   "metadata": {},
   "source": [
    "# Data preprocessing\n",
    "This section, I will normalize *x_train* to $\\mu=0$ $\\sigma=1$."
   ]
  },
  {
   "cell_type": "code",
   "execution_count": 3,
   "metadata": {},
   "outputs": [],
   "source": [
    "(x_train, y_train), (x_test, y_test) = mnist.load_data()"
   ]
  },
  {
   "cell_type": "code",
   "execution_count": 4,
   "metadata": {},
   "outputs": [
    {
     "data": {
      "text/plain": [
       "60000"
      ]
     },
     "execution_count": 4,
     "metadata": {},
     "output_type": "execute_result"
    }
   ],
   "source": [
    "len(x_train)"
   ]
  },
  {
   "cell_type": "code",
   "execution_count": 5,
   "metadata": {},
   "outputs": [],
   "source": [
    "x_train = x_train.reshape(60000, 784)\n",
    "x_train = np.matrix(x_train,dtype = 'float64')\n",
    "x_test = x_test.reshape(10000, 784)"
   ]
  },
  {
   "cell_type": "code",
   "execution_count": 6,
   "metadata": {},
   "outputs": [],
   "source": [
    "y_train = np_utils.to_categorical(y_train, 10)\n",
    "y_test = np_utils.to_categorical(y_test, 10)"
   ]
  },
  {
   "cell_type": "markdown",
   "metadata": {},
   "source": [
    "## Start Setting up network for training"
   ]
  },
  {
   "cell_type": "markdown",
   "metadata": {},
   "source": [
    "Lets build a **really deep** neural network"
   ]
  },
  {
   "cell_type": "code",
   "execution_count": 7,
   "metadata": {},
   "outputs": [],
   "source": [
    "from keras.models import Sequential\n",
    "from keras.layers import Dense, Activation\n",
    "from keras.optimizers import Adagrad"
   ]
  },
  {
   "cell_type": "code",
   "execution_count": 90,
   "metadata": {},
   "outputs": [],
   "source": [
    "model = Sequential()\n",
    "model.add(Dense(500, input_dim=784))\n",
    "model.add(Activation('relu'))\n",
    "model.add(Dense(400))\n",
    "model.add(Activation('relu'))\n",
    "model.add(Dense(300))\n",
    "model.add(Activation('relu'))\n",
    "model.add(Dense(200))\n",
    "model.add(Activation('relu'))\n",
    "model.add(Dense(100))\n",
    "model.add(Activation('relu'))\n",
    "model.add(Dense(50))\n",
    "model.add(Activation('relu'))\n",
    "model.add(Dense(10))\n",
    "model.add(Activation('softmax'))\n",
    "model.compile(loss='categorical_crossentropy'\n",
    "              , optimizer='adam', metrics=['accuracy'])"
   ]
  },
  {
   "cell_type": "code",
   "execution_count": 91,
   "metadata": {},
   "outputs": [
    {
     "name": "stdout",
     "output_type": "stream",
     "text": [
      "_________________________________________________________________\n",
      "Layer (type)                 Output Shape              Param #   \n",
      "=================================================================\n",
      "dense_139 (Dense)            (None, 500)               392500    \n",
      "_________________________________________________________________\n",
      "activation_139 (Activation)  (None, 500)               0         \n",
      "_________________________________________________________________\n",
      "dense_140 (Dense)            (None, 400)               200400    \n",
      "_________________________________________________________________\n",
      "activation_140 (Activation)  (None, 400)               0         \n",
      "_________________________________________________________________\n",
      "dense_141 (Dense)            (None, 300)               120300    \n",
      "_________________________________________________________________\n",
      "activation_141 (Activation)  (None, 300)               0         \n",
      "_________________________________________________________________\n",
      "dense_142 (Dense)            (None, 200)               60200     \n",
      "_________________________________________________________________\n",
      "activation_142 (Activation)  (None, 200)               0         \n",
      "_________________________________________________________________\n",
      "dense_143 (Dense)            (None, 100)               20100     \n",
      "_________________________________________________________________\n",
      "activation_143 (Activation)  (None, 100)               0         \n",
      "_________________________________________________________________\n",
      "dense_144 (Dense)            (None, 50)                5050      \n",
      "_________________________________________________________________\n",
      "activation_144 (Activation)  (None, 50)                0         \n",
      "_________________________________________________________________\n",
      "dense_145 (Dense)            (None, 10)                510       \n",
      "_________________________________________________________________\n",
      "activation_145 (Activation)  (None, 10)                0         \n",
      "=================================================================\n",
      "Total params: 799,060\n",
      "Trainable params: 799,060\n",
      "Non-trainable params: 0\n",
      "_________________________________________________________________\n"
     ]
    }
   ],
   "source": [
    "model.summary()"
   ]
  },
  {
   "cell_type": "code",
   "execution_count": 92,
   "metadata": {},
   "outputs": [
    {
     "name": "stdout",
     "output_type": "stream",
     "text": [
      "Epoch 1/15\n",
      "60000/60000 [==============================] - 5s 87us/step - loss: 0.2231 - acc: 0.9320\n",
      "Epoch 2/15\n",
      "60000/60000 [==============================] - 3s 53us/step - loss: 0.1048 - acc: 0.9685\n",
      "Epoch 3/15\n",
      "60000/60000 [==============================] - 3s 54us/step - loss: 0.0732 - acc: 0.9776\n",
      "Epoch 4/15\n",
      "60000/60000 [==============================] - 3s 54us/step - loss: 0.0598 - acc: 0.9816\n",
      "Epoch 5/15\n",
      "60000/60000 [==============================] - 3s 54us/step - loss: 0.0539 - acc: 0.9835\n",
      "Epoch 6/15\n",
      "60000/60000 [==============================] - 3s 54us/step - loss: 0.0427 - acc: 0.9867\n",
      "Epoch 7/15\n",
      "60000/60000 [==============================] - 3s 54us/step - loss: 0.0383 - acc: 0.9886\n",
      "Epoch 8/15\n",
      "60000/60000 [==============================] - 3s 54us/step - loss: 0.0326 - acc: 0.9901\n",
      "Epoch 9/15\n",
      "60000/60000 [==============================] - 3s 54us/step - loss: 0.0319 - acc: 0.9904\n",
      "Epoch 10/15\n",
      "60000/60000 [==============================] - 3s 54us/step - loss: 0.0289 - acc: 0.9913\n",
      "Epoch 11/15\n",
      "60000/60000 [==============================] - 3s 53us/step - loss: 0.0241 - acc: 0.9930\n",
      "Epoch 12/15\n",
      "60000/60000 [==============================] - 3s 54us/step - loss: 0.0238 - acc: 0.9929\n",
      "Epoch 13/15\n",
      "60000/60000 [==============================] - 3s 54us/step - loss: 0.0235 - acc: 0.9932\n",
      "Epoch 14/15\n",
      "60000/60000 [==============================] - 3s 54us/step - loss: 0.0230 - acc: 0.9937\n",
      "Epoch 15/15\n",
      "60000/60000 [==============================] - 3s 54us/step - loss: 0.0213 - acc: 0.9944\n"
     ]
    }
   ],
   "source": [
    "m_1 = model.fit(x_train, y_train, batch_size=100, epochs=15)"
   ]
  },
  {
   "cell_type": "code",
   "execution_count": 93,
   "metadata": {},
   "outputs": [
    {
     "name": "stdout",
     "output_type": "stream",
     "text": [
      "10000/10000 [==============================] - 1s 125us/step\n",
      "loss:  0.3214738908904179  accuracy: 0.9796\n"
     ]
    }
   ],
   "source": [
    "out = model.evaluate(x_test,y_test)\n",
    "print(\"loss: \",out[0],\" accuracy:\",out[1])\n"
   ]
  },
  {
   "cell_type": "code",
   "execution_count": 94,
   "metadata": {},
   "outputs": [
    {
     "data": {
      "image/png": "[encoded data removed]",
      "text/plain": [
       "<Figure size 432x288 with 1 Axes>"
      ]
     },
     "metadata": {},
     "output_type": "display_data"
    }
   ],
   "source": [
    "plt.plot(m_1.history[\"acc\"])\n",
    "plt.title(\"model training accuracy\")\n",
    "plt.ylabel(\"accuracy\")\n",
    "plt.xlabel(\"epoch\")\n",
    "plt.show()"
   ]
  },
  {
   "cell_type": "markdown",
   "metadata": {},
   "source": [
    "## Faster, Faster, Faster....\n",
    "In real world scenarios, we will normally **normalize** the image data. It will make the input image matrix $\\mu=0$ $\\sigma=1$."
   ]
  },
  {
   "cell_type": "code",
   "execution_count": 95,
   "metadata": {},
   "outputs": [],
   "source": [
    "(x_train, y_train), (x_test, y_test) = mnist.load_data()\n",
    "\n",
    "x_train = x_train.reshape(60000, 784)\n",
    "x_train = np.matrix(x_train,dtype = 'float64')\n",
    "x_test = x_test.reshape(10000, 784)\n",
    "y_train = np_utils.to_categorical(y_train, 10)\n",
    "y_test = np_utils.to_categorical(y_test, 10)\n",
    "\n",
    "for i in range(len(x_train)):\n",
    "    x_train[i] -= np.mean(x_train[i])\n",
    "    x_train[i] /= np.std(x_train[i])"
   ]
  },
  {
   "cell_type": "code",
   "execution_count": 96,
   "metadata": {},
   "outputs": [
    {
     "name": "stdout",
     "output_type": "stream",
     "text": [
      "_________________________________________________________________\n",
      "Layer (type)                 Output Shape              Param #   \n",
      "=================================================================\n",
      "dense_139 (Dense)            (None, 500)               392500    \n",
      "_________________________________________________________________\n",
      "activation_139 (Activation)  (None, 500)               0         \n",
      "_________________________________________________________________\n",
      "dense_140 (Dense)            (None, 400)               200400    \n",
      "_________________________________________________________________\n",
      "activation_140 (Activation)  (None, 400)               0         \n",
      "_________________________________________________________________\n",
      "dense_141 (Dense)            (None, 300)               120300    \n",
      "_________________________________________________________________\n",
      "activation_141 (Activation)  (None, 300)               0         \n",
      "_________________________________________________________________\n",
      "dense_142 (Dense)            (None, 200)               60200     \n",
      "_________________________________________________________________\n",
      "activation_142 (Activation)  (None, 200)               0         \n",
      "_________________________________________________________________\n",
      "dense_143 (Dense)            (None, 100)               20100     \n",
      "_________________________________________________________________\n",
      "activation_143 (Activation)  (None, 100)               0         \n",
      "_________________________________________________________________\n",
      "dense_144 (Dense)            (None, 50)                5050      \n",
      "_________________________________________________________________\n",
      "activation_144 (Activation)  (None, 50)                0         \n",
      "_________________________________________________________________\n",
      "dense_145 (Dense)            (None, 10)                510       \n",
      "_________________________________________________________________\n",
      "activation_145 (Activation)  (None, 10)                0         \n",
      "=================================================================\n",
      "Total params: 799,060\n",
      "Trainable params: 799,060\n",
      "Non-trainable params: 0\n",
      "_________________________________________________________________\n"
     ]
    }
   ],
   "source": [
    "model_2 = Sequential()\n",
    "model_2.add(Dense(500, input_dim=784))\n",
    "model_2.add(Activation('relu'))\n",
    "model_2.add(Dense(400))\n",
    "model_2.add(Activation('relu'))\n",
    "model_2.add(Dense(300))\n",
    "model_2.add(Activation('relu'))\n",
    "model_2.add(Dense(200))\n",
    "model_2.add(Activation('relu'))\n",
    "model_2.add(Dense(100))\n",
    "model_2.add(Activation('relu'))\n",
    "model_2.add(Dense(50))\n",
    "model_2.add(Activation('relu'))\n",
    "model_2.add(Dense(10))\n",
    "model_2.add(Activation('softmax'))\n",
    "\n",
    "model_2.compile(loss='categorical_crossentropy'\n",
    "              , optimizer='adam', metrics=['accuracy'])\n",
    "model.summary()"
   ]
  },
  {
   "cell_type": "code",
   "execution_count": 97,
   "metadata": {},
   "outputs": [
    {
     "name": "stdout",
     "output_type": "stream",
     "text": [
      "Epoch 1/15\n",
      "60000/60000 [==============================] - 5s 91us/step - loss: 0.2225 - acc: 0.9306\n",
      "Epoch 2/15\n",
      "60000/60000 [==============================] - 3s 55us/step - loss: 0.0994 - acc: 0.9704\n",
      "Epoch 3/15\n",
      "60000/60000 [==============================] - 3s 54us/step - loss: 0.0736 - acc: 0.9778\n",
      "Epoch 4/15\n",
      "60000/60000 [==============================] - 3s 54us/step - loss: 0.0596 - acc: 0.9815\n",
      "Epoch 5/15\n",
      "60000/60000 [==============================] - 3s 55us/step - loss: 0.0488 - acc: 0.9848\n",
      "Epoch 6/15\n",
      "60000/60000 [==============================] - 3s 54us/step - loss: 0.0447 - acc: 0.9865\n",
      "Epoch 7/15\n",
      "60000/60000 [==============================] - 3s 54us/step - loss: 0.0376 - acc: 0.9889\n",
      "Epoch 8/15\n",
      "60000/60000 [==============================] - 3s 55us/step - loss: 0.0318 - acc: 0.9901\n",
      "Epoch 9/15\n",
      "60000/60000 [==============================] - 3s 55us/step - loss: 0.0316 - acc: 0.9910\n",
      "Epoch 10/15\n",
      "60000/60000 [==============================] - 3s 54us/step - loss: 0.0272 - acc: 0.9918\n",
      "Epoch 11/15\n",
      "60000/60000 [==============================] - 3s 55us/step - loss: 0.0274 - acc: 0.9921\n",
      "Epoch 12/15\n",
      "60000/60000 [==============================] - 3s 54us/step - loss: 0.0228 - acc: 0.9935\n",
      "Epoch 13/15\n",
      "60000/60000 [==============================] - 3s 55us/step - loss: 0.0239 - acc: 0.9932\n",
      "Epoch 14/15\n",
      "60000/60000 [==============================] - 3s 54us/step - loss: 0.0197 - acc: 0.9944\n",
      "Epoch 15/15\n",
      "60000/60000 [==============================] - 3s 54us/step - loss: 0.0209 - acc: 0.9941\n"
     ]
    }
   ],
   "source": [
    "m_2 = model_2.fit(x_train, y_train, batch_size=100, epochs=15)"
   ]
  },
  {
   "cell_type": "code",
   "execution_count": 99,
   "metadata": {},
   "outputs": [
    {
     "name": "stdout",
     "output_type": "stream",
     "text": [
      "10000/10000 [==============================] - 1s 54us/step\n",
      "loss:  0.34036235845837465  accuracy: 0.9784\n"
     ]
    }
   ],
   "source": [
    "out = model_2.evaluate(x_test,y_test)\n",
    "print(\"loss: \",out[0],\" accuracy:\",out[1])"
   ]
  },
  {
   "cell_type": "code",
   "execution_count": 100,
   "metadata": {},
   "outputs": [
    {
     "data": {
      "image/png": "[encoded data removed]",
      "text/plain": [
       "<Figure size 432x288 with 1 Axes>"
      ]
     },
     "metadata": {},
     "output_type": "display_data"
    }
   ],
   "source": [
    "plt.plot(m_2.history[\"acc\"])\n",
    "plt.title(\"model training accuracy\")\n",
    "plt.ylabel(\"accuracy\")\n",
    "plt.xlabel(\"epoch\")\n",
    "plt.show()"
   ]
  },
  {
   "cell_type": "code",
   "execution_count": 101,
   "metadata": {},
   "outputs": [
    {
     "name": "stdout",
     "output_type": "stream",
     "text": [
      "_________________________________________________________________\n",
      "Layer (type)                 Output Shape              Param #   \n",
      "=================================================================\n",
      "dense_153 (Dense)            (None, 700)               549500    \n",
      "_________________________________________________________________\n",
      "activation_153 (Activation)  (None, 700)               0         \n",
      "_________________________________________________________________\n",
      "dense_154 (Dense)            (None, 500)               350500    \n",
      "_________________________________________________________________\n",
      "activation_154 (Activation)  (None, 500)               0         \n",
      "_________________________________________________________________\n",
      "dense_155 (Dense)            (None, 300)               150300    \n",
      "_________________________________________________________________\n",
      "activation_155 (Activation)  (None, 300)               0         \n",
      "_________________________________________________________________\n",
      "dense_156 (Dense)            (None, 200)               60200     \n",
      "_________________________________________________________________\n",
      "activation_156 (Activation)  (None, 200)               0         \n",
      "_________________________________________________________________\n",
      "dense_157 (Dense)            (None, 100)               20100     \n",
      "_________________________________________________________________\n",
      "activation_157 (Activation)  (None, 100)               0         \n",
      "_________________________________________________________________\n",
      "dense_158 (Dense)            (None, 50)                5050      \n",
      "_________________________________________________________________\n",
      "activation_158 (Activation)  (None, 50)                0         \n",
      "_________________________________________________________________\n",
      "dense_159 (Dense)            (None, 10)                510       \n",
      "_________________________________________________________________\n",
      "activation_159 (Activation)  (None, 10)                0         \n",
      "=================================================================\n",
      "Total params: 1,136,160\n",
      "Trainable params: 1,136,160\n",
      "Non-trainable params: 0\n",
      "_________________________________________________________________\n"
     ]
    }
   ],
   "source": [
    "model_3 = Sequential()\n",
    "model_3.add(Dense(700, input_dim=784))\n",
    "model_3.add(Activation('relu'))\n",
    "model_3.add(Dense(500))\n",
    "model_3.add(Activation('relu'))\n",
    "model_3.add(Dense(300))\n",
    "model_3.add(Activation('relu'))\n",
    "model_3.add(Dense(200))\n",
    "model_3.add(Activation('relu'))\n",
    "model_3.add(Dense(100))\n",
    "model_3.add(Activation('relu'))\n",
    "model_3.add(Dense(50))\n",
    "model_3.add(Activation('relu'))\n",
    "model_3.add(Dense(10))\n",
    "model_3.add(Activation('softmax'))\n",
    "model_3.compile(loss='categorical_crossentropy'\n",
    "              , optimizer='adam', metrics=['accuracy'])\n",
    "model_3.summary()"
   ]
  },
  {
   "cell_type": "code",
   "execution_count": 102,
   "metadata": {},
   "outputs": [
    {
     "name": "stdout",
     "output_type": "stream",
     "text": [
      "Epoch 1/15\n",
      "60000/60000 [==============================] - 4s 63us/step - loss: 0.2511 - acc: 0.9211\n",
      "Epoch 2/15\n",
      "60000/60000 [==============================] - 1s 24us/step - loss: 0.0903 - acc: 0.9726\n",
      "Epoch 3/15\n",
      "60000/60000 [==============================] - 1s 24us/step - loss: 0.0634 - acc: 0.9801\n",
      "Epoch 4/15\n",
      "60000/60000 [==============================] - 1s 24us/step - loss: 0.0477 - acc: 0.9850\n",
      "Epoch 5/15\n",
      "60000/60000 [==============================] - 1s 24us/step - loss: 0.0400 - acc: 0.9874\n",
      "Epoch 6/15\n",
      "60000/60000 [==============================] - 1s 24us/step - loss: 0.0324 - acc: 0.9899\n",
      "Epoch 7/15\n",
      "60000/60000 [==============================] - 1s 24us/step - loss: 0.0315 - acc: 0.9900\n",
      "Epoch 8/15\n",
      "60000/60000 [==============================] - 1s 24us/step - loss: 0.0258 - acc: 0.9922\n",
      "Epoch 9/15\n",
      "60000/60000 [==============================] - 1s 24us/step - loss: 0.0218 - acc: 0.9932\n",
      "Epoch 10/15\n",
      "60000/60000 [==============================] - 1s 24us/step - loss: 0.0212 - acc: 0.9937\n",
      "Epoch 11/15\n",
      "60000/60000 [==============================] - 1s 23us/step - loss: 0.0199 - acc: 0.9938\n",
      "Epoch 12/15\n",
      "60000/60000 [==============================] - 1s 24us/step - loss: 0.0192 - acc: 0.9938\n",
      "Epoch 13/15\n",
      "60000/60000 [==============================] - 1s 24us/step - loss: 0.0151 - acc: 0.9952\n",
      "Epoch 14/15\n",
      "60000/60000 [==============================] - 1s 24us/step - loss: 0.0156 - acc: 0.9951\n",
      "Epoch 15/15\n",
      "60000/60000 [==============================] - 1s 25us/step - loss: 0.0137 - acc: 0.9958\n"
     ]
    }
   ],
   "source": [
    "m_3 = model_3.fit(x_train, y_train, batch_size=250, epochs=15)"
   ]
  },
  {
   "cell_type": "code",
   "execution_count": 103,
   "metadata": {},
   "outputs": [
    {
     "name": "stdout",
     "output_type": "stream",
     "text": [
      "10000/10000 [==============================] - 1s 146us/step\n",
      "loss:  0.2621493829488842  accuracy: 0.9834\n"
     ]
    }
   ],
   "source": [
    "out = model_3.evaluate(x_test,y_test)\n",
    "print(\"loss: \",out[0],\" accuracy:\",out[1])"
   ]
  },
  {
   "cell_type": "markdown",
   "metadata": {},
   "source": [
    "## Conclusion"
   ]
  },
  {
   "cell_type": "code",
   "execution_count": 104,
   "metadata": {},
   "outputs": [
    {
     "data": {
      "image/png": "[encoded data removed]",
      "text/plain": [
       "<Figure size 432x288 with 1 Axes>"
      ]
     },
     "metadata": {},
     "output_type": "display_data"
    }
   ],
   "source": [
    "plt.plot(m_1.history[\"acc\"])\n",
    "plt.plot(m_2.history[\"acc\"])\n",
    "plt.plot(m_3.history[\"acc\"])\n",
    "plt.title(\"model training accuracy\")\n",
    "plt.ylabel(\"accuracy\")\n",
    "plt.xlabel(\"epoch\")\n",
    "plt.legend(['model_1','modle_2','model_3'],loc = 'best')\n",
    "plt.show()"
   ]
  },
  {
   "cell_type": "markdown",
   "metadata": {},
   "source": [
    "From the above three models, we see that it is really an enjoyable process of training deep neural network (well... 5 layers aren't really deep...)\n",
    "\n",
    "Some ideas can be drawn"
   ]
  }
 ],
 "metadata": {
  "kernelspec": {
   "display_name": "Python 3",
   "language": "python",
   "name": "python3"
  },
  "language_info": {
   "codemirror_mode": {
    "name": "ipython",
    "version": 3
   },
   "file_extension": ".py",
   "mimetype": "text/x-python",
   "name": "python",
   "nbconvert_exporter": "python",
   "pygments_lexer": "ipython3",
   "version": "3.5.3"
  }
 },
 "nbformat": 4,
 "nbformat_minor": 2
}
