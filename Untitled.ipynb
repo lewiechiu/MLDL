{
 "cells": [
  {
   "cell_type": "code",
   "execution_count": 29,
   "metadata": {},
   "outputs": [],
   "source": [
    "import keras \n",
    "import numpy as np\n",
    "import matplotlib.pyplot as plt\n",
    "from sklearn.preprocessing import normalize"
   ]
  },
  {
   "cell_type": "code",
   "execution_count": 60,
   "metadata": {},
   "outputs": [],
   "source": [
    "from keras.datasets import imdb\n",
    "(x_train, y_train), (x_test, y_test) = imdb.load_data(num_words=10000)\n"
   ]
  },
  {
   "cell_type": "code",
   "execution_count": 3,
   "metadata": {},
   "outputs": [],
   "source": [
    "from keras.preprocessing import sequence"
   ]
  },
  {
   "cell_type": "code",
   "execution_count": 79,
   "metadata": {},
   "outputs": [],
   "source": [
    "x_train = sequence.pad_sequences(x_train, maxlen=250)\n",
    "x_test = sequence.pad_sequences(x_test, maxlen=250)\n",
    "# x_train = normalize(x_train)\n",
    "# x_test = normalize(x_test)"
   ]
  },
  {
   "cell_type": "code",
   "execution_count": 96,
   "metadata": {},
   "outputs": [],
   "source": [
    "from keras.models import Sequential\n",
    "from keras.layers import Dense, Embedding, BatchNormalization, Dropout, Activation\n",
    "from keras.layers import LSTM\n",
    "from keras.callbacks import EarlyStopping"
   ]
  },
  {
   "cell_type": "code",
   "execution_count": 125,
   "metadata": {},
   "outputs": [
    {
     "name": "stdout",
     "output_type": "stream",
     "text": [
      "_________________________________________________________________\n",
      "Layer (type)                 Output Shape              Param #   \n",
      "=================================================================\n",
      "embedding_34 (Embedding)     (None, None, 80)          800000    \n",
      "_________________________________________________________________\n",
      "dropout_42 (Dropout)         (None, None, 80)          0         \n",
      "_________________________________________________________________\n",
      "lstm_33 (LSTM)               (None, 30)                13320     \n",
      "_________________________________________________________________\n",
      "dense_67 (Dense)             (None, 30)                930       \n",
      "_________________________________________________________________\n",
      "batch_normalization_44 (Batc (None, 30)                120       \n",
      "_________________________________________________________________\n",
      "activation_35 (Activation)   (None, 30)                0         \n",
      "_________________________________________________________________\n",
      "dropout_43 (Dropout)         (None, 30)                0         \n",
      "_________________________________________________________________\n",
      "dense_68 (Dense)             (None, 25)                775       \n",
      "_________________________________________________________________\n",
      "batch_normalization_45 (Batc (None, 25)                100       \n",
      "_________________________________________________________________\n",
      "activation_36 (Activation)   (None, 25)                0         \n",
      "_________________________________________________________________\n",
      "dropout_44 (Dropout)         (None, 25)                0         \n",
      "_________________________________________________________________\n",
      "dense_69 (Dense)             (None, 1)                 26        \n",
      "=================================================================\n",
      "Total params: 815,271\n",
      "Trainable params: 815,161\n",
      "Non-trainable params: 110\n",
      "_________________________________________________________________\n"
     ]
    }
   ],
   "source": [
    "N = 80\n",
    "K = 30\n",
    "\n",
    "m = Sequential()\n",
    "m.add(Embedding(10000,N))\n",
    "m.add(Dropout(0.25))\n",
    "\n",
    "m.add(LSTM(K,dropout=0.25 , recurrent_dropout=0.25))\n",
    "\n",
    "m.add(Dense(30))\n",
    "m.add(BatchNormalization())\n",
    "m.add(Activation('relu'))\n",
    "m.add(Dropout(0.25))\n",
    "\n",
    "m.add(Dense(25))\n",
    "m.add(BatchNormalization())\n",
    "m.add(Activation('relu'))\n",
    "m.add(Dropout(0.25))\n",
    "\n",
    "\n",
    "m.add(Dense(1, activation='sigmoid'))\n",
    "\n",
    "m.compile(loss='binary_crossentropy', optimizer='adam', metrics=['accuracy'])\n",
    "m.summary()\n",
    "## 5 lstm neuron * (5+20) + 4 = 520"
   ]
  },
  {
   "cell_type": "code",
   "execution_count": null,
   "metadata": {},
   "outputs": [
    {
     "name": "stdout",
     "output_type": "stream",
     "text": [
      "Train on 20000 samples, validate on 5000 samples\n",
      "Epoch 1/8\n",
      "20000/20000 [==============================] - 260s 13ms/step - loss: 0.3308 - acc: 0.8626 - val_loss: 0.4712 - val_acc: 0.7854\n",
      "Epoch 2/8\n",
      "20000/20000 [==============================] - 257s 13ms/step - loss: 0.2641 - acc: 0.8967 - val_loss: 0.4517 - val_acc: 0.8030\n",
      "Epoch 3/8\n",
      "20000/20000 [==============================] - 255s 13ms/step - loss: 0.2390 - acc: 0.9075 - val_loss: 0.4693 - val_acc: 0.7960\n",
      "Epoch 4/8\n",
      "20000/20000 [==============================] - 255s 13ms/step - loss: 0.2229 - acc: 0.9151 - val_loss: 0.5030 - val_acc: 0.7948\n",
      "Epoch 5/8\n",
      "20000/20000 [==============================] - 256s 13ms/step - loss: 0.1891 - acc: 0.9293 - val_loss: 0.5484 - val_acc: 0.8014\n",
      "Epoch 6/8\n",
      "20000/20000 [==============================] - 255s 13ms/step - loss: 0.1897 - acc: 0.9299 - val_loss: 0.6001 - val_acc: 0.7948\n",
      "Epoch 7/8\n",
      "17952/20000 [=========================>....] - ETA: 24s - loss: 0.1500 - acc: 0.9464"
     ]
    }
   ],
   "source": [
    "m.fit(x_train, y_train, epochs=8, batch_size=32,validation_split= 0.2)"
   ]
  },
  {
   "cell_type": "code",
   "execution_count": 104,
   "metadata": {},
   "outputs": [
    {
     "name": "stdout",
     "output_type": "stream",
     "text": [
      "25000/25000 [==============================] - 52s 2ms/step\n",
      "loss 0.43522753704071043 acc: 0.804\n"
     ]
    }
   ],
   "source": [
    "score = m.evaluate(x_test, y_test)\n",
    "print('loss', score[0], 'acc:', score[1])"
   ]
  },
  {
   "cell_type": "code",
   "execution_count": null,
   "metadata": {},
   "outputs": [],
   "source": []
  }
 ],
 "metadata": {
  "kernelspec": {
   "display_name": "Python 3",
   "language": "python",
   "name": "python3"
  },
  "language_info": {
   "codemirror_mode": {
    "name": "ipython",
    "version": 3
   },
   "file_extension": ".py",
   "mimetype": "text/x-python",
   "name": "python",
   "nbconvert_exporter": "python",
   "pygments_lexer": "ipython3",
   "version": "3.5.3"
  }
 },
 "nbformat": 4,
 "nbformat_minor": 2
}
