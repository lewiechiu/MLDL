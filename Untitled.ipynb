{
 "cells": [
  {
   "cell_type": "markdown",
   "metadata": {},
   "source": [
    "In this practice, I aim to use the dataset on *kaggle* about FIFA 2019 player statistics. I will use multivariable linear regression to approximate the players **value**, **wage**, **overall** upon several values.\n",
    "Now, some EDA first.\n",
    "\n",
    "## EDA"
   ]
  },
  {
   "cell_type": "code",
   "execution_count": 9,
   "metadata": {},
   "outputs": [],
   "source": [
    "import pandas as pd\n",
    "import numpy as np\n",
    "df = pd.read_csv(\"data.csv\")\n",
    "df.head()"
   ]
  },
  {
   "cell_type": "code",
   "execution_count": 17,
   "metadata": {},
   "outputs": [
    {
     "name": "stdout",
     "output_type": "stream",
     "text": [
      "0: Unnamed: 0 type: int64\n",
      "1: ID type: int64\n",
      "2: Name type: object\n",
      "3: Age type: int64\n",
      "4: Photo type: object\n",
      "5: Nationality type: object\n",
      "6: Flag type: object\n",
      "7: Overall type: int64\n",
      "8: Potential type: int64\n",
      "9: Club type: object\n",
      "10: Club Logo type: object\n",
      "11: Value type: object\n",
      "12: Wage type: object\n",
      "13: Special type: int64\n",
      "14: Preferred Foot type: object\n",
      "15: International Reputation type: int64\n",
      "16: Weak Foot type: int64\n",
      "17: Skill Moves type: int64\n",
      "18: Work Rate type: object\n",
      "19: Body Type type: object\n",
      "20: Real Face type: object\n",
      "21: Position type: object\n",
      "22: Jersey Number type: int64\n",
      "23: Joined type: object\n",
      "24: Loaned From type: object\n",
      "25: Contract Valid Until type: object\n",
      "26: Height type: object\n",
      "27: Weight type: object\n",
      "28: LS type: object\n",
      "29: ST type: object\n",
      "30: RS type: object\n",
      "31: LW type: object\n",
      "32: LF type: object\n",
      "33: CF type: object\n",
      "34: RF type: object\n",
      "35: RW type: object\n",
      "36: LAM type: object\n",
      "37: CAM type: object\n",
      "38: RAM type: object\n",
      "39: LM type: object\n",
      "40: LCM type: object\n",
      "41: CM type: object\n",
      "42: RCM type: object\n",
      "43: RM type: object\n",
      "44: LWB type: object\n",
      "45: LDM type: object\n",
      "46: CDM type: object\n",
      "47: RDM type: object\n",
      "48: RWB type: object\n",
      "49: LB type: object\n",
      "50: LCB type: object\n",
      "51: CB type: object\n",
      "52: RCB type: object\n",
      "53: RB type: object\n",
      "54: Crossing type: float64\n",
      "55: Finishing type: float64\n",
      "56: HeadingAccuracy type: float64\n",
      "57: ShortPassing type: float64\n",
      "58: Volleys type: float64\n",
      "59: Dribbling type: float64\n",
      "60: Curve type: float64\n",
      "61: FKAccuracy type: float64\n",
      "62: LongPassing type: float64\n",
      "63: BallControl type: float64\n",
      "64: Acceleration type: float64\n",
      "65: SprintSpeed type: float64\n",
      "66: Agility type: float64\n",
      "67: Reactions type: float64\n",
      "68: Balance type: float64\n",
      "69: ShotPower type: float64\n",
      "70: Jumping type: float64\n",
      "71: Stamina type: float64\n",
      "72: Strength type: float64\n",
      "73: LongShots type: float64\n",
      "74: Aggression type: float64\n",
      "75: Interceptions type: float64\n",
      "76: Positioning type: float64\n",
      "77: Vision type: float64\n",
      "78: Penalties type: float64\n",
      "79: Composure type: float64\n",
      "80: Marking type: float64\n",
      "81: StandingTackle type: float64\n",
      "82: SlidingTackle type: float64\n",
      "83: GKDiving type: float64\n",
      "84: GKHandling type: float64\n",
      "85: GKKicking type: float64\n",
      "86: GKPositioning type: float64\n",
      "87: GKReflexes type: float64\n",
      "88: Release Clause type: object\n"
     ]
    }
   ],
   "source": [
    "cnt = 0\n",
    "for i in df.columns.values.tolist():\n",
    "    print(cnt,end=': ')\n",
    "    print(i,end=' ')\n",
    "    typ = \"type: \" + str(df.dtypes[cnt])\n",
    "    print(typ)\n",
    "    cnt += 1"
   ]
  },
  {
   "cell_type": "markdown",
   "metadata": {},
   "source": [
    "From the indexiing of the dataset, we would like to focus on index from 54 to 87."
   ]
  },
  {
   "cell_type": "markdown",
   "metadata": {},
   "source": [
    "## Normalization\n",
    "One technique I learned from another class, we can first normalize those values among the same row. We may achieve a better result of smaller variance."
   ]
  },
  {
   "cell_type": "code",
   "execution_count": 25,
   "metadata": {},
   "outputs": [
    {
     "name": "stdout",
     "output_type": "stream",
     "text": [
      "['Crossing', 'Finishing', 'HeadingAccuracy', 'ShortPassing', 'Volleys', 'Dribbling', 'Curve', 'FKAccuracy', 'LongPassing', 'BallControl', 'Acceleration', 'SprintSpeed', 'Agility', 'Reactions', 'Balance', 'ShotPower', 'Jumping', 'Stamina', 'Strength', 'LongShots', 'Aggression', 'Interceptions', 'Positioning', 'Vision', 'Penalties', 'Composure', 'Marking', 'StandingTackle', 'SlidingTackle', 'GKDiving', 'GKHandling', 'GKKicking', 'GKPositioning', 'GKReflexes']\n"
     ]
    }
   ],
   "source": [
    "select_columns = df.columns.values.tolist()\n",
    "print(select_columns[54:88])\n",
    "\n"
   ]
  }
 ],
 "metadata": {
  "kernelspec": {
   "display_name": "Python 3",
   "language": "python",
   "name": "python3"
  },
  "language_info": {
   "codemirror_mode": {
    "name": "ipython",
    "version": 3
   },
   "file_extension": ".py",
   "mimetype": "text/x-python",
   "name": "python",
   "nbconvert_exporter": "python",
   "pygments_lexer": "ipython3",
   "version": "3.5.3"
  }
 },
 "nbformat": 4,
 "nbformat_minor": 2
}
