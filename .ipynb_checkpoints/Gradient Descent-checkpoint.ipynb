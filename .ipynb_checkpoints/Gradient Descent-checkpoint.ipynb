{
 "cells": [
  {
   "cell_type": "code",
   "execution_count": 21,
   "metadata": {},
   "outputs": [],
   "source": [
    "import numpy as np\n",
    "import matplotlib.pyplot as plt"
   ]
  },
  {
   "cell_type": "markdown",
   "metadata": {},
   "source": [
    "In this kernel, I will implement a few gradient descent techniques.\n",
    "\n",
    "The main function for me to optimize will be $$a^T\\vec{x}=\\vec{y}$$. The goal for SGD is to optimize $a$, such that it has the smallest loss. Here, $x$ and $y$ will be randomly decided. $x$ will be a matrix of $5000\\times30$."
   ]
  },
  {
   "cell_type": "markdown",
   "metadata": {},
   "source": [
    "## Generate Data\n",
    "We will first generate the bias matrix ($a$), then $x$. $y$ will be acquired by $a^Tx$"
   ]
  },
  {
   "cell_type": "code",
   "execution_count": 75,
   "metadata": {},
   "outputs": [
    {
     "name": "stdout",
     "output_type": "stream",
     "text": [
      "[1430 3850 5648 4367 4363 1962 5762 6793  774 3129 6884 7927 2186 2802\n",
      " 5505 8225 3693 2870 8940 4301 1570  787 7338 7314 4207 2602 3419 5234\n",
      " 9437 9872 7455 2553  645 6050 7391 2526 9474 8963 3008 7390  465 2556\n",
      " 3162 3991 8864 4153 7976 6950 2636 2934 6886 7659 7603 5286 6707 2900\n",
      " 3434 3754 3603 2874 6785 7397 9187 6599 1834  942 6434 5896 1821 8180\n",
      " 2027 5445 9723 2142  738 9724 4054 8878 5447 8698 3545 3992 1158 3200\n",
      " 6224 3984 9621  865 6265  658 6647 1983 3094 5038 2001  454 2878 1987\n",
      "  616 7871]\n"
     ]
    }
   ],
   "source": [
    "a = np.random.randint(1,10000, size=100)\n",
    "print(a)"
   ]
  },
  {
   "cell_type": "code",
   "execution_count": 76,
   "metadata": {},
   "outputs": [
    {
     "data": {
      "text/plain": [
       "array([[-0.37075035, -0.91197099,  0.89154802, ...,  0.73599573,\n",
       "         1.29935704, -0.46618493],\n",
       "       [ 0.23587862,  0.16087673, -0.3859583 , ..., -0.30686093,\n",
       "        -1.06823188, -0.71587608],\n",
       "       [ 0.39458593, -0.59904851, -0.1008914 , ...,  0.38214607,\n",
       "        -0.59972414, -1.094637  ],\n",
       "       ...,\n",
       "       [-0.24346001,  1.22900398,  0.89685907, ...,  0.15058909,\n",
       "        -0.65333525, -1.85719398],\n",
       "       [ 0.7336436 , -0.06278063,  0.94759201, ...,  0.11711587,\n",
       "        -1.15624659, -0.75118594],\n",
       "       [ 0.70682426, -0.48667389,  0.05296054, ..., -0.28594956,\n",
       "         0.22565602, -1.59264317]])"
      ]
     },
     "execution_count": 76,
     "metadata": {},
     "output_type": "execute_result"
    }
   ],
   "source": [
    "x = np.random.randn(20000,100)\n",
    "x"
   ]
  },
  {
   "cell_type": "code",
   "execution_count": 77,
   "metadata": {},
   "outputs": [
    {
     "data": {
      "text/plain": [
       "array([ 22591.35388858,  39057.9468175 , -35418.14686145, ...,\n",
       "         3173.76795935,  -3548.10155834,   3044.33153944])"
      ]
     },
     "execution_count": 77,
     "metadata": {},
     "output_type": "execute_result"
    }
   ],
   "source": [
    "y = np.zeros(20000)\n",
    "for i in range(len(y)):\n",
    "    y[i] = np.dot(a,x[i])\n",
    "y"
   ]
  },
  {
   "cell_type": "markdown",
   "metadata": {},
   "source": [
    "The above is the data generated for our Gradient Descent problem. Lets move on\n",
    "\n",
    "## Loss Function and Hyper params"
   ]
  },
  {
   "cell_type": "code",
   "execution_count": 78,
   "metadata": {},
   "outputs": [],
   "source": [
    "def loss(y,predict):\n",
    "    summed = 1/(len(x)) * np.sum((predict-y)**2)\n",
    "    return summed\n",
    "\n",
    "alpha = 0.001"
   ]
  },
  {
   "cell_type": "code",
   "execution_count": 87,
   "metadata": {},
   "outputs": [
    {
     "name": "stdout",
     "output_type": "stream",
     "text": [
      "iter:1000\n",
      "cost404738711.7480242\n",
      "iter:2000\n",
      "cost54783745.971608646\n",
      "iter:3000\n",
      "cost7560788.582976928\n",
      "iter:4000\n",
      "cost1063226.8074276764\n",
      "iter:5000\n",
      "cost152199.36508150303\n",
      "iter:6000\n",
      "cost22152.697645343436\n",
      "iter:7000\n",
      "cost3274.2773604134572\n",
      "iter:8000\n",
      "cost490.8047072846749\n",
      "iter:9000\n",
      "cost74.51474597654853\n",
      "iter:10000\n",
      "cost11.443964567522594\n",
      "iter:11000\n",
      "cost1.7758578761611994\n",
      "iterations to reach cost < 1\n",
      "11310\n",
      "iter:12000\n",
      "cost0.27814805162902695\n",
      "iter:13000\n",
      "cost0.04393013264918493\n",
      "iter:14000\n",
      "cost0.006990257776670096\n",
      "iter:15000\n",
      "cost0.0011197831784630255\n",
      "iter:16000\n",
      "cost0.00018046276911929242\n",
      "iter:17000\n",
      "cost2.9240874482493696e-05\n",
      "iterations spent to find optimum:\n",
      "17591\n",
      "time spent\n",
      "371.24827671051025\n"
     ]
    }
   ],
   "source": [
    "theta = np.zeros(100)\n",
    "cost = 1\n",
    "hist_cost = []\n",
    "printed = True\n",
    "\n",
    "import time\n",
    "start = time.time()\n",
    "ite = 0 \n",
    "while cost > 0.00001:\n",
    "    ite +=1\n",
    "    for j in range(100):\n",
    "        theta[j] = theta[j] - alpha / len(x) *np.sum(  (x @ theta.T - y) @ x[:,j], axis=0)\n",
    "        \n",
    "    cost = loss(y, x @ theta.T)\n",
    "    hist_cost.append(cost)\n",
    "    if ite % 1000 == 0:\n",
    "        print(\"iter:\",end='')\n",
    "        print(ite)\n",
    "        print(\"cost\",end='')\n",
    "        print(cost)\n",
    "    if cost <= 1 and printed:\n",
    "        printed = False\n",
    "        print(\"iterations to reach cost < 1\")\n",
    "        print(len(hist_cost))\n",
    "        \n",
    "\n",
    "end = time.time()\n",
    "\n",
    "\n",
    "print(\"iterations spent to find optimum:\")\n",
    "print(len(hist_cost))\n",
    "print(\"time spent\")\n",
    "print(end - start)"
   ]
  },
  {
   "cell_type": "markdown",
   "metadata": {},
   "source": [
    "Lets see how close $\\theta$ and the real $a$ is"
   ]
  },
  {
   "cell_type": "code",
   "execution_count": 91,
   "metadata": {},
   "outputs": [
    {
     "name": "stdout",
     "output_type": "stream",
     "text": [
      "[1430.00000401 3850.00022235 5647.99996937 4367.00006695 4363.00047009\n",
      " 1962.00006897 5761.99992474 6792.99989641  773.99972891 3128.99971262\n",
      " 6883.99997556 7927.00009965 2185.9998544  2802.00006615 5504.99984125\n",
      " 8224.99973813 3692.99937934 2869.9998837  8939.99967722 4300.99989305\n",
      " 1570.00044599  787.00002547 7337.9998861  7313.99965535 4206.99955709\n",
      " 2601.99974976 3419.00004147 5233.99991073 9436.99961808 9871.99924313\n",
      " 7454.99935308 2553.0002172   645.00016376 6049.99943143 7390.99937811\n",
      " 2525.99985462 9473.99965999 8962.99954246 3008.00011265 7389.99983581\n",
      "  465.0000358  2556.00011375 3161.99994894 3990.9994463  8863.99942413\n",
      " 4152.99993709 7975.99965022 6949.99963577 2635.99951898 2933.99977057\n",
      " 6885.99991714 7658.99956332 7603.00020793 5285.99978823 6706.99977976\n",
      " 2899.99989217 3433.99991583 3754.0000328  3603.000182   2873.99977553\n",
      " 6784.99982053 7396.99969192 9186.99973042 6598.99994235 1834.00063642\n",
      "  941.99986889 6433.99989203 5895.99965126 1820.99979723 8179.9997728\n",
      " 2026.99998536 5444.99974259 9722.99893245 2141.99996484  737.99977349\n",
      " 9723.99966542 4054.00032615 8877.99987936 5446.99958611 8697.99926018\n",
      " 3544.99984154 3991.99984057 1157.99998488 3199.99993396 6223.99969272\n",
      " 3983.99935284 9620.99997843  865.00025425 6264.99971183  658.00035923\n",
      " 6646.99948786 1983.00016911 3093.99947987 5037.99966931 2000.99934184\n",
      "  453.99997747 2878.00038384 1986.99978023  615.99982693 7870.99959807]\n",
      "[1430 3850 5648 4367 4363 1962 5762 6793  774 3129 6884 7927 2186 2802\n",
      " 5505 8225 3693 2870 8940 4301 1570  787 7338 7314 4207 2602 3419 5234\n",
      " 9437 9872 7455 2553  645 6050 7391 2526 9474 8963 3008 7390  465 2556\n",
      " 3162 3991 8864 4153 7976 6950 2636 2934 6886 7659 7603 5286 6707 2900\n",
      " 3434 3754 3603 2874 6785 7397 9187 6599 1834  942 6434 5896 1821 8180\n",
      " 2027 5445 9723 2142  738 9724 4054 8878 5447 8698 3545 3992 1158 3200\n",
      " 6224 3984 9621  865 6265  658 6647 1983 3094 5038 2001  454 2878 1987\n",
      "  616 7871]\n",
      "-0.016723997413748748\n"
     ]
    }
   ],
   "source": [
    "print(theta)\n",
    "print(a)\n",
    "print(sum(theta-a))"
   ]
  },
  {
   "cell_type": "code",
   "execution_count": 90,
   "metadata": {},
   "outputs": [
    {
     "data": {
      "text/plain": [
       "[<matplotlib.lines.Line2D at 0x7f4aa46499b0>]"
      ]
     },
     "execution_count": 90,
     "metadata": {},
     "output_type": "execute_result"
    },
    {
     "data": {
      "image/png": "[encoded data removed]",
      "text/plain": [
       "<Figure size 432x288 with 1 Axes>"
      ]
     },
     "metadata": {},
     "output_type": "display_data"
    }
   ],
   "source": [
    "plt.plot(np.arange(len(hist_cost)),hist_cost,'r')"
   ]
  },
  {
   "cell_type": "markdown",
   "metadata": {},
   "source": [
    "The computers nowadays are really amazing, my computer done $17591 \\times 20000 \\times 100$ in 370 seconds, which is about 37.5 billion calculations to reach a cost less than 0.00001. It did nearly 95 million calculations in 1 second...."
   ]
  }
 ],
 "metadata": {
  "kernelspec": {
   "display_name": "Python 3",
   "language": "python",
   "name": "python3"
  },
  "language_info": {
   "codemirror_mode": {
    "name": "ipython",
    "version": 3
   },
   "file_extension": ".py",
   "mimetype": "text/x-python",
   "name": "python",
   "nbconvert_exporter": "python",
   "pygments_lexer": "ipython3",
   "version": "3.5.3"
  }
 },
 "nbformat": 4,
 "nbformat_minor": 2
}
